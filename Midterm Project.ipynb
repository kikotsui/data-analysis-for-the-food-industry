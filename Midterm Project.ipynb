{
 "cells": [
  {
   "cell_type": "code",
   "execution_count": 1,
   "id": "73446659",
   "metadata": {},
   "outputs": [
    {
     "name": "stdout",
     "output_type": "stream",
     "text": [
      "DATE                    0\n",
      "Food Expenditures       0\n",
      "GDP                     0\n",
      "S&P 500                 0\n",
      "Home Price Index        0\n",
      "Unemployed Rate         0\n",
      "Real Personal Income    0\n",
      "Retail Sales            0\n",
      "CPI                     0\n",
      "dtype: int64\n",
      "       Food Expenditures           GDP      S&P 500  Home Price Index  \\\n",
      "count           41.00000     41.000000    41.000000         41.000000   \n",
      "mean          1019.28439  20159.171463  2700.867805        204.158911   \n",
      "std            133.69554   2648.926849   895.806103         43.966488   \n",
      "min            852.90000  16420.390000  1412.160000        144.564333   \n",
      "25%            917.37000  18193.710000  2018.050000        170.881000   \n",
      "50%            989.60000  19636.730000  2575.260000        195.969000   \n",
      "75%           1127.70000  21538.030000  3225.520000        217.263333   \n",
      "max           1310.57000  26144.960000  4605.380000        303.489667   \n",
      "\n",
      "       Unemployed Rate  Real Personal Income   Retail Sales         CPI  \n",
      "count        41.000000             41.000000      41.000000   41.000000  \n",
      "mean          5.326829          16188.739512  503686.179024  251.007878  \n",
      "std           1.865077           1463.827630   81462.264523   17.604223  \n",
      "min           3.600000          13882.260000  407313.000000  231.638000  \n",
      "25%           3.900000          15163.610000  445353.670000  237.498000  \n",
      "50%           4.900000          16051.050000  477474.670000  246.626000  \n",
      "75%           6.200000          17621.190000  522398.670000  258.278000  \n",
      "max          13.000000          19539.380000  685023.330000  297.987000  \n"
     ]
    },
    {
     "name": "stderr",
     "output_type": "stream",
     "text": [
      "/var/folders/h5/v3qyf40113lctbtb5g8k2k340000gn/T/ipykernel_30195/1711536522.py:13: FutureWarning: Dropping of nuisance columns in DataFrame reductions (with 'numeric_only=None') is deprecated; in a future version this will raise TypeError.  Select only valid columns before calling the reduction.\n",
      "  data.fillna(data.mean(), inplace=True)\n"
     ]
    },
    {
     "data": {
      "image/png": "[encoded data removed]",
      "text/plain": [
       "<Figure size 864x576 with 9 Axes>"
      ]
     },
     "metadata": {
      "needs_background": "light"
     },
     "output_type": "display_data"
    }
   ],
   "source": [
    "import pandas as pd\n",
    "import numpy as np\n",
    "import statsmodels.api as sm\n",
    "import matplotlib.pyplot as plt\n",
    "\n",
    "# Load data\n",
    "data= pd.read_csv('Project.csv')\n",
    "\n",
    "#check for missing values\n",
    "print(data.isnull().sum())\n",
    "\n",
    "#impute missing values with mean\n",
    "data.fillna(data.mean(), inplace=True)\n",
    "\n",
    "#Descriptive statistics\n",
    "desc_stats= data.describe()\n",
    "print(desc_stats)\n",
    "\n",
    "# Plot histograms for each variable\n",
    "data.hist(bins=10, figsize=(12,8))\n",
    "plt.show()"
   ]
  },
  {
   "cell_type": "code",
   "execution_count": 2,
   "id": "91fde4bc",
   "metadata": {},
   "outputs": [
    {
     "name": "stdout",
     "output_type": "stream",
     "text": [
      "DATE                     object\n",
      "Food Expenditures       float64\n",
      "GDP                     float64\n",
      "S&P 500                 float64\n",
      "Home Price Index        float64\n",
      "Unemployed Rate         float64\n",
      "Real Personal Income    float64\n",
      "Retail Sales            float64\n",
      "CPI                     float64\n",
      "dtype: object\n",
      "DATE                    float64\n",
      "Food Expenditures       float64\n",
      "GDP                     float64\n",
      "S&P 500                 float64\n",
      "Home Price Index        float64\n",
      "Unemployed Rate         float64\n",
      "Real Personal Income    float64\n",
      "Retail Sales            float64\n",
      "CPI                     float64\n",
      "dtype: object\n",
      "                      Food Expenditures      DATE       GDP   S&P 500  \\\n",
      "Food Expenditures              1.000000  0.959797  0.967718  0.967858   \n",
      "DATE                           0.959797  1.000000  0.962011  0.950977   \n",
      "GDP                            0.967718  0.962011  1.000000  0.960462   \n",
      "S&P 500                        0.967858  0.950977  0.960462  1.000000   \n",
      "Home Price Index               0.984239  0.944131  0.983817  0.964754   \n",
      "Unemployed Rate               -0.224710 -0.321067 -0.442434 -0.314800   \n",
      "Real Personal Income           0.912266  0.956119  0.868517  0.900390   \n",
      "Retail Sales                   0.968568  0.919483  0.981261  0.962242   \n",
      "CPI                            0.973996  0.927074  0.981258  0.934073   \n",
      "\n",
      "                      Home Price Index  Unemployed Rate  Real Personal Income  \\\n",
      "Food Expenditures             0.984239        -0.224710              0.912266   \n",
      "DATE                          0.944131        -0.321067              0.956119   \n",
      "GDP                           0.983817        -0.442434              0.868517   \n",
      "S&P 500                       0.964754        -0.314800              0.900390   \n",
      "Home Price Index              1.000000        -0.334121              0.859585   \n",
      "Unemployed Rate              -0.334121         1.000000             -0.134606   \n",
      "Real Personal Income          0.859585        -0.134606              1.000000   \n",
      "Retail Sales                  0.989643        -0.378948              0.832237   \n",
      "CPI                           0.987794        -0.338865              0.829793   \n",
      "\n",
      "                      Retail Sales       CPI  \n",
      "Food Expenditures         0.968568  0.973996  \n",
      "DATE                      0.919483  0.927074  \n",
      "GDP                       0.981261  0.981258  \n",
      "S&P 500                   0.962242  0.934073  \n",
      "Home Price Index          0.989643  0.987794  \n",
      "Unemployed Rate          -0.378948 -0.338865  \n",
      "Real Personal Income      0.832237  0.829793  \n",
      "Retail Sales              1.000000  0.978597  \n",
      "CPI                       0.978597  1.000000  \n"
     ]
    }
   ],
   "source": [
    "# Check the data types for the variables\n",
    "print(data.dtypes)\n",
    "\n",
    "# Convert date into Unix timestamp\n",
    "data['DATE'] = pd.to_datetime(data['DATE']).astype(int)/10**9\n",
    "\n",
    "print(data.dtypes)\n",
    "\n",
    "# Calculate correlation matrix\n",
    "corr_matrix = data[['Food Expenditures', 'DATE', 'GDP', 'S&P 500', 'Home Price Index', \n",
    "                    'Unemployed Rate', 'Real Personal Income', 'Retail Sales', 'CPI']].corr()\n",
    "\n",
    "# Print correlation matrix\n",
    "print(corr_matrix)"
   ]
  },
  {
   "cell_type": "code",
   "execution_count": 3,
   "id": "1293b16d",
   "metadata": {},
   "outputs": [
    {
     "name": "stdout",
     "output_type": "stream",
     "text": [
      "Food Expenditures       1.000000\n",
      "Home Price Index        0.984239\n",
      "CPI                     0.973996\n",
      "Retail Sales            0.968568\n",
      "S&P 500                 0.967858\n",
      "GDP                     0.967718\n",
      "DATE                    0.959797\n",
      "Real Personal Income    0.912266\n",
      "Unemployed Rate        -0.224710\n",
      "Name: Food Expenditures, dtype: float64\n"
     ]
    }
   ],
   "source": [
    "# Calculate correlation coefficients with food_expenditure\n",
    "corr_coeffs = data.corr()['Food Expenditures'].sort_values(ascending=False)\n",
    "# Print correlation coefficients\n",
    "print(corr_coeffs)"
   ]
  },
  {
   "cell_type": "code",
   "execution_count": 15,
   "id": "980951fe",
   "metadata": {},
   "outputs": [
    {
     "name": "stdout",
     "output_type": "stream",
     "text": [
      "                            OLS Regression Results                            \n",
      "==============================================================================\n",
      "Dep. Variable:      Food Expenditures   R-squared:                       0.994\n",
      "Model:                            OLS   Adj. R-squared:                  0.993\n",
      "Method:                 Least Squares   F-statistic:                     777.0\n",
      "Date:                Sat, 25 Mar 2023   Prob (F-statistic):           1.00e-34\n",
      "Time:                        22:04:09   Log-Likelihood:                -153.62\n",
      "No. Observations:                  41   AIC:                             323.2\n",
      "Df Residuals:                      33   BIC:                             336.9\n",
      "Df Model:                           7                                         \n",
      "Covariance Type:            nonrobust                                         \n",
      "========================================================================================\n",
      "                           coef    std err          t      P>|t|      [0.025      0.975]\n",
      "----------------------------------------------------------------------------------------\n",
      "const                 -352.4315    170.300     -2.069      0.046    -698.909      -5.955\n",
      "GDP                     -0.0074      0.013     -0.580      0.566      -0.033       0.019\n",
      "S&P 500                  0.0270      0.012      2.241      0.032       0.002       0.052\n",
      "Home Price Index         0.8567      0.465      1.844      0.074      -0.088       1.802\n",
      "Unemployed Rate          4.8120      2.955      1.628      0.113      -1.200      10.824\n",
      "Real Personal Income     0.0197      0.005      3.599      0.001       0.009       0.031\n",
      "Retail Sales          8.234e-05      0.000      0.435      0.666      -0.000       0.000\n",
      "CPI                      3.5342      1.355      2.608      0.014       0.777       6.292\n",
      "==============================================================================\n",
      "Omnibus:                       18.592   Durbin-Watson:                   1.825\n",
      "Prob(Omnibus):                  0.000   Jarque-Bera (JB):               29.187\n",
      "Skew:                           1.261   Prob(JB):                     4.59e-07\n",
      "Kurtosis:                       6.275   Cond. No.                     4.87e+07\n",
      "==============================================================================\n",
      "\n",
      "Notes:\n",
      "[1] Standard Errors assume that the covariance matrix of the errors is correctly specified.\n",
      "[2] The condition number is large, 4.87e+07. This might indicate that there are\n",
      "strong multicollinearity or other numerical problems.\n"
     ]
    }
   ],
   "source": [
    "# Define dependent and independent variables \n",
    "data = data.fillna(data.mean())\n",
    "y= data['Food Expenditures']\n",
    "X= data[['GDP', 'S&P 500', 'Home Price Index', 'Unemployed Rate', 'Real Personal Income', 'Retail Sales', 'CPI']]\n",
    "\n",
    "# Add constant term to independet variables\n",
    "X= sm.add_constant(X)\n",
    "\n",
    "# Fit multiple linear regression model\n",
    "model = sm.OLS(y, X).fit()\n",
    "\n",
    "#print summary of regression result\n",
    "print(model.summary())"
   ]
  },
  {
   "cell_type": "code",
   "execution_count": 6,
   "id": "a0221e91",
   "metadata": {},
   "outputs": [
    {
     "data": {
      "image/png": "[encoded data removed]",
      "text/plain": [
       "<Figure size 432x288 with 1 Axes>"
      ]
     },
     "metadata": {
      "needs_background": "light"
     },
     "output_type": "display_data"
    },
    {
     "name": "stdout",
     "output_type": "stream",
     "text": [
      "Mean Squared Error: 103.68721809086733\n"
     ]
    }
   ],
   "source": [
    "from sklearn.metrics import mean_squared_error\n",
    "#Get the predicted values of the model\n",
    "y_pred= model.predict(X)\n",
    "\n",
    "# Plot the predicted values against the actual values\n",
    "plt.scatter(y, y_pred)\n",
    "plt.xlabel('Actual Food Expenditures')\n",
    "plt.ylabel('Predicted Food Expenditures')\n",
    "plt.title('OLS Regression Model')\n",
    "plt.show()\n",
    "\n",
    "mse = mean_squared_error(y, y_pred)\n",
    "\n",
    "print(\"Mean Squared Error:\", mse)"
   ]
  },
  {
   "cell_type": "code",
   "execution_count": 7,
   "id": "356b514e",
   "metadata": {},
   "outputs": [
    {
     "name": "stdout",
     "output_type": "stream",
     "text": [
      "              variables           VIF\n",
      "0                   GDP  12197.642069\n",
      "1               S&P 500    325.994025\n",
      "2      Home Price Index   1689.876666\n",
      "3       Unemployed Rate     57.352612\n",
      "4  Real Personal Income   1411.197878\n",
      "5          Retail Sales   2677.502748\n",
      "6                   CPI   5548.297449\n"
     ]
    }
   ],
   "source": [
    "from statsmodels.stats.outliers_influence import variance_inflation_factor\n",
    "\n",
    "# Split the data into X and y\n",
    "X = data[['GDP', 'S&P 500', 'Home Price Index', 'Unemployed Rate', 'Real Personal Income', 'Retail Sales', 'CPI']]\n",
    "\n",
    "# Calculate the VIF for each independent variable\n",
    "vif = pd.DataFrame()\n",
    "vif[\"variables\"] = X.columns\n",
    "vif[\"VIF\"] = [variance_inflation_factor(X.values, i) for i in range(X.shape[1])]\n",
    "\n",
    "# Print the VIF table\n",
    "print(vif)"
   ]
  },
  {
   "cell_type": "code",
   "execution_count": 8,
   "id": "86494171",
   "metadata": {},
   "outputs": [
    {
     "name": "stdout",
     "output_type": "stream",
     "text": [
      "Mean Squared Error: 649.1351701526798\n",
      "Coefficients: [ 6.00081395e-04  2.24585174e-02  1.85249594e+00  7.13374956e+00\n",
      "  1.69280268e-02  1.73296970e-04 -4.04596799e-01]\n"
     ]
    },
    {
     "data": {
      "image/png": "[encoded data removed]",
      "text/plain": [
       "<Figure size 432x288 with 1 Axes>"
      ]
     },
     "metadata": {
      "needs_background": "light"
     },
     "output_type": "display_data"
    }
   ],
   "source": [
    "from sklearn.linear_model import RidgeCV\n",
    "from sklearn.model_selection import train_test_split\n",
    "from sklearn.metrics import mean_squared_error\n",
    "import numpy as np\n",
    "\n",
    "# split data into training and test sets\n",
    "X_train, X_test, y_train, y_test = train_test_split(X, y, test_size=0.3, random_state=42)\n",
    "\n",
    "# perform ridge regression with cross-validation to tune alpha parameter\n",
    "alphas = np.logspace(-4, 4, 50)\n",
    "ridge_cv = RidgeCV(alphas=alphas, cv=10)\n",
    "ridge_cv.fit(X_train, y_train)\n",
    "\n",
    "# evaluate model performance on test set\n",
    "y_pred = ridge_cv.predict(X_test)\n",
    "mse = mean_squared_error(y_test, y_pred)\n",
    "print(\"Mean Squared Error:\", mse)\n",
    "# print coefficients of independent variables\n",
    "coef = ridge_cv.coef_\n",
    "print(\"Coefficients:\", coef)\n",
    "\n",
    "# plot coefficients\n",
    "import matplotlib.pyplot as plt\n",
    "plt.plot(range(len(coef)), coef)\n",
    "plt.xticks(range(len(coef)), X.columns, rotation=90)\n",
    "plt.show()"
   ]
  },
  {
   "cell_type": "code",
   "execution_count": 9,
   "id": "8184104d",
   "metadata": {},
   "outputs": [
    {
     "data": {
      "text/plain": [
       "<AxesSubplot:xlabel='PC1', ylabel='PC2'>"
      ]
     },
     "execution_count": 9,
     "metadata": {},
     "output_type": "execute_result"
    },
    {
     "data": {
      "image/png": "[encoded data removed]",
      "text/plain": [
       "<Figure size 432x288 with 1 Axes>"
      ]
     },
     "metadata": {
      "needs_background": "light"
     },
     "output_type": "display_data"
    }
   ],
   "source": [
    "from sklearn.decomposition import PCA\n",
    "from sklearn.preprocessing import StandardScaler\n",
    "import seaborn as sns\n",
    "\n",
    "# create a dataframe with your independent variables\n",
    "X = data[['GDP', 'S&P 500', 'Home Price Index', 'Unemployed Rate', 'Real Personal Income', 'Retail Sales', 'CPI']]\n",
    "\n",
    "# standardize the data\n",
    "scaler = StandardScaler()\n",
    "X_scaled = scaler.fit_transform(X)\n",
    "\n",
    "# perform PCA with 2 components\n",
    "pca = PCA(n_components=2)\n",
    "principal_components = pca.fit_transform(X_scaled)\n",
    "\n",
    "# create a new dataframe with the principal components\n",
    "principal_df = pd.DataFrame(data=principal_components, columns=['PC1', 'PC2'])\n",
    "\n",
    "# add the dependent variable 'food expenditures' to the new dataframe\n",
    "principal_df['Food Expenditures'] = data['Food Expenditures']\n",
    "\n",
    "# plot the principal components against the dependent variable\n",
    "sns.scatterplot(data=principal_df, x='PC1', y='PC2', hue='Food Expenditures')"
   ]
  },
  {
   "cell_type": "code",
   "execution_count": 10,
   "id": "4bb0ea2a",
   "metadata": {},
   "outputs": [
    {
     "name": "stdout",
     "output_type": "stream",
     "text": [
      "Variance ratio of PC1: 0.9999\n",
      "Variance ratio of PC2: 0.0001\n",
      "Variance ratio of PC3: 0.0000\n",
      "Variance ratio of PC4: 0.0000\n",
      "Variance ratio of PC5: 0.0000\n",
      "Variance ratio of PC6: 0.0000\n",
      "Variance ratio of PC7: 0.0000\n"
     ]
    }
   ],
   "source": [
    "#  X is data matrix\n",
    "X = data[['GDP', 'S&P 500', 'Home Price Index', 'Unemployed Rate', 'Real Personal Income', 'Retail Sales', 'CPI']]\n",
    "\n",
    "# Create a PCA object with n_components = number of features\n",
    "pca = PCA(n_components=X.shape[1])\n",
    "\n",
    "# Fit PCA on the data matrix X\n",
    "pca.fit(X)\n",
    "\n",
    "# Get the variance ratio of each principal component\n",
    "var_ratio = pca.explained_variance_ratio_\n",
    "\n",
    "# Print the variance ratio of each principal component\n",
    "for i, ratio in enumerate(var_ratio):\n",
    "    print(f\"Variance ratio of PC{i + 1}: {ratio:.4f}\")"
   ]
  },
  {
   "cell_type": "code",
   "execution_count": 16,
   "id": "2b454459",
   "metadata": {},
   "outputs": [
    {
     "name": "stdout",
     "output_type": "stream",
     "text": [
      "                            OLS Regression Results                            \n",
      "==============================================================================\n",
      "Dep. Variable:      Food Expenditures   R-squared:                       0.990\n",
      "Model:                            OLS   Adj. R-squared:                  0.989\n",
      "Method:                 Least Squares   F-statistic:                     1187.\n",
      "Date:                Sat, 25 Mar 2023   Prob (F-statistic):           8.21e-37\n",
      "Time:                        22:10:10   Log-Likelihood:                -164.55\n",
      "No. Observations:                  41   AIC:                             337.1\n",
      "Df Residuals:                      37   BIC:                             344.0\n",
      "Df Model:                           3                                         \n",
      "Covariance Type:            nonrobust                                         \n",
      "===================================================================================\n",
      "                      coef    std err          t      P>|t|      [0.025      0.975]\n",
      "-----------------------------------------------------------------------------------\n",
      "const             -59.6116     51.369     -1.160      0.253    -163.694      44.471\n",
      "GDP                 0.0458      0.004     12.849      0.000       0.039       0.053\n",
      "S&P 500             0.0252      0.010      2.531      0.016       0.005       0.045\n",
      "Unemployed Rate    16.4753      1.485     11.097      0.000      13.467      19.483\n",
      "==============================================================================\n",
      "Omnibus:                        3.459   Durbin-Watson:                   1.252\n",
      "Prob(Omnibus):                  0.177   Jarque-Bera (JB):                2.513\n",
      "Skew:                           0.283   Prob(JB):                        0.285\n",
      "Kurtosis:                       4.073   Cond. No.                     4.79e+05\n",
      "==============================================================================\n",
      "\n",
      "Notes:\n",
      "[1] Standard Errors assume that the covariance matrix of the errors is correctly specified.\n",
      "[2] The condition number is large, 4.79e+05. This might indicate that there are\n",
      "strong multicollinearity or other numerical problems.\n"
     ]
    },
    {
     "data": {
      "image/png": "[encoded data removed]",
      "text/plain": [
       "<Figure size 432x288 with 1 Axes>"
      ]
     },
     "metadata": {
      "needs_background": "light"
     },
     "output_type": "display_data"
    },
    {
     "name": "stdout",
     "output_type": "stream",
     "text": [
      "Mean Squared Error: 179.2706294408747\n"
     ]
    }
   ],
   "source": [
    "# create a new dataframe with the selected principal component and dependent variable\n",
    "data = data.fillna(data.mean())\n",
    "y= data['Food Expenditures']\n",
    "X= data[['GDP','S&P 500','Unemployed Rate']]\n",
    "\n",
    "# Add constant term to independet variables\n",
    "X= sm.add_constant(X)\n",
    "\n",
    "# Fit multiple linear regression model\n",
    "model = sm.OLS(y, X).fit()\n",
    "\n",
    "#print summary of regression result\n",
    "print(model.summary())\n",
    "\n",
    "\n",
    "#Get the predicted values of the model\n",
    "y_pred= model.predict(X)\n",
    "\n",
    "# Plot the predicted values against the actual values\n",
    "plt.scatter(y, y_pred)\n",
    "plt.xlabel('Actual Food Expenditures')\n",
    "plt.ylabel('Predicted Food Expenditures')\n",
    "plt.title('OLS Regression Model')\n",
    "plt.show()\n",
    "\n",
    "mse = mean_squared_error(y, y_pred)\n",
    "\n",
    "print(\"Mean Squared Error:\", mse)"
   ]
  },
  {
   "cell_type": "code",
   "execution_count": 17,
   "id": "0f4ed1ab",
   "metadata": {
    "scrolled": true
   },
   "outputs": [
    {
     "name": "stdout",
     "output_type": "stream",
     "text": [
      "P values: GDP                     0.337249\n",
      "S&P 500                 0.127583\n",
      "Home Price Index        0.000294\n",
      "Unemployed Rate         0.002054\n",
      "Real Personal Income    0.007614\n",
      "Retail Sales            0.874494\n",
      "CPI                     0.094716\n",
      "dtype: float64\n",
      "t values: GDP                     0.973359\n",
      "S&P 500                 1.561857\n",
      "Home Price Index        4.034053\n",
      "Unemployed Rate         3.338065\n",
      "Real Personal Income    2.837419\n",
      "Retail Sales           -0.159148\n",
      "CPI                     1.718959\n",
      "dtype: float64\n"
     ]
    }
   ],
   "source": [
    "import statsmodels.api as sm\n",
    "\n",
    "y= data['Food Expenditures']\n",
    "X= data[['GDP', 'S&P 500', 'Home Price Index', 'Unemployed Rate', 'Real Personal Income', 'Retail Sales', 'CPI']]\n",
    "\n",
    "# Fit the OLS model\n",
    "model = sm.OLS(y, X).fit()\n",
    "\n",
    "# Get the p-values and t-values of the model\n",
    "p_values = model.pvalues\n",
    "t_values = model.tvalues\n",
    "\n",
    "print(\"P values:\", p_values)\n",
    "print(\"t values:\", t_values)"
   ]
  },
  {
   "cell_type": "code",
   "execution_count": null,
   "id": "6cb13390",
   "metadata": {},
   "outputs": [],
   "source": []
  }
 ],
 "metadata": {
  "kernelspec": {
   "display_name": "Python 3 (ipykernel)",
   "language": "python",
   "name": "python3"
  },
  "language_info": {
   "codemirror_mode": {
    "name": "ipython",
    "version": 3
   },
   "file_extension": ".py",
   "mimetype": "text/x-python",
   "name": "python",
   "nbconvert_exporter": "python",
   "pygments_lexer": "ipython3",
   "version": "3.9.12"
  }
 },
 "nbformat": 4,
 "nbformat_minor": 5
}
